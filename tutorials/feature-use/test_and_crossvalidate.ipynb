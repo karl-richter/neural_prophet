{
 "cells": [
  {
   "cell_type": "markdown",
   "id": "93723569-e97b-4e07-9b7b-344f06f9dfa7",
   "metadata": {},
   "source": [
    "[![Open In Colab](https://colab.research.google.com/assets/colab-badge.svg)](https://colab.research.google.com/github/ourownstory/neural_prophet/blob/master/tutorials/feature-use/crossvalidation.ipynb)"
   ]
  },
  {
   "cell_type": "markdown",
   "id": "2f2af163-c378-4e01-8d5b-3def6194c29e",
   "metadata": {},
   "source": [
    "# Test and CrossValidate"
   ]
  },
  {
   "cell_type": "code",
   "execution_count": 1,
   "id": "80400b6d-ca57-47ba-9dc5-0da3885ab6b1",
   "metadata": {},
   "outputs": [],
   "source": [
    "if 'google.colab' in str(get_ipython()):\n",
    "    !pip install git+https://github.com/ourownstory/neural_prophet.git # may take a while\n",
    "    #!pip install neuralprophet # much faster, but may not have the latest upgrades/bugfixes\n",
    "    \n",
    "import pandas as pd\n",
    "from neuralprophet import NeuralProphet, set_log_level\n",
    "set_log_level(\"ERROR\")"
   ]
  },
  {
   "cell_type": "markdown",
   "id": "e5e79793-8ebb-4d06-b021-82b49d107653",
   "metadata": {},
   "source": [
    "## Load data"
   ]
  },
  {
   "cell_type": "code",
   "execution_count": 2,
   "id": "90e2ee7e-6798-4a0c-a37f-c3b7325d9c70",
   "metadata": {},
   "outputs": [],
   "source": [
    "data_location = \"https://raw.githubusercontent.com/ourownstory/neuralprophet-data/main/datasets/\"\n",
    "# df = pd.read_csv(data_location + \"air_passengers.csv\")"
   ]
  },
  {
   "cell_type": "markdown",
   "id": "24aaf32f-f3c4-4ac0-9317-122f4df932e7",
   "metadata": {},
   "source": [
    "## 1. Basic: Train and Test a model\n",
    "First, we show how to fit a model and evaluate it on a holdout set.\n",
    "\n",
    "Note: before making any actual forecasts, re-fit the model on all data available, else you are greatly reducing your forecast accuracy!"
   ]
  },
  {
   "cell_type": "markdown",
   "id": "e4e4871e-c8a5-48cb-b86c-de75adbbaf24",
   "metadata": {},
   "source": [
    "### 1.1 Train-Test evaluation"
   ]
  },
  {
   "cell_type": "code",
   "execution_count": 3,
   "id": "170af980-1830-4909-800a-b3e4f0ccc4f9",
   "metadata": {},
   "outputs": [
    {
     "name": "stderr",
     "output_type": "stream",
     "text": [
      "                                                                                                                         \r"
     ]
    },
    {
     "data": {
      "text/html": [
       "<div>\n",
       "<style scoped>\n",
       "    .dataframe tbody tr th:only-of-type {\n",
       "        vertical-align: middle;\n",
       "    }\n",
       "\n",
       "    .dataframe tbody tr th {\n",
       "        vertical-align: top;\n",
       "    }\n",
       "\n",
       "    .dataframe thead th {\n",
       "        text-align: right;\n",
       "    }\n",
       "</style>\n",
       "<table border=\"1\" class=\"dataframe\">\n",
       "  <thead>\n",
       "    <tr style=\"text-align: right;\">\n",
       "      <th></th>\n",
       "      <th>SmoothL1Loss</th>\n",
       "      <th>MAE</th>\n",
       "      <th>RMSE</th>\n",
       "    </tr>\n",
       "  </thead>\n",
       "  <tbody>\n",
       "    <tr>\n",
       "      <th>0</th>\n",
       "      <td>0.005541</td>\n",
       "      <td>27.541485</td>\n",
       "      <td>33.474789</td>\n",
       "    </tr>\n",
       "  </tbody>\n",
       "</table>\n",
       "</div>"
      ],
      "text/plain": [
       "   SmoothL1Loss        MAE       RMSE\n",
       "0      0.005541  27.541485  33.474789"
      ]
     },
     "execution_count": 3,
     "metadata": {},
     "output_type": "execute_result"
    }
   ],
   "source": [
    "m = NeuralProphet(seasonality_mode= \"multiplicative\", learning_rate = 0.1)\n",
    "\n",
    "df = pd.read_csv(data_location + \"air_passengers.csv\")\n",
    "df_train, df_test = m.split_df(df=df, freq=\"MS\", valid_p=0.2)\n",
    "\n",
    "metrics_train = m.fit(df=df_train, freq=\"MS\")\n",
    "metrics_test = m.test(df=df_test)\n",
    "\n",
    "metrics_test"
   ]
  },
  {
   "cell_type": "markdown",
   "id": "bafa6a99-0df5-43cf-a235-0af2a51a4bcf",
   "metadata": {},
   "source": [
    "### 1.2 Bonus: Predict into future\n",
    "Before making any actual forecasts, re-fit the model on all data available, else you are greatly reducing your forecast accuracy!"
   ]
  },
  {
   "cell_type": "code",
   "execution_count": 4,
   "id": "47d23260-ad96-4196-aba1-7eb9fd2e6b21",
   "metadata": {},
   "outputs": [
    {
     "name": "stderr",
     "output_type": "stream",
     "text": [
      "                                                                                                                         \r"
     ]
    },
    {
     "data": {
      "application/vnd.plotly.v1+json": {
       "config": {
        "plotlyServerURL": "https://plot.ly"
       },
       "data": [
        {
         "fill": "none",
         "line": {
          "color": "rgba(45, 146, 255, 1.0)",
          "width": 2
         },
         "mode": "lines",
         "name": "yhat1",
         "type": "scatter",
         "x": [
          "1957-01-01T00:00:00",
          "1957-02-01T00:00:00",
          "1957-03-01T00:00:00",
          "1957-04-01T00:00:00",
          "1957-05-01T00:00:00",
          "1957-06-01T00:00:00",
          "1957-07-01T00:00:00",
          "1957-08-01T00:00:00",
          "1957-09-01T00:00:00",
          "1957-10-01T00:00:00",
          "1957-11-01T00:00:00",
          "1957-12-01T00:00:00",
          "1958-01-01T00:00:00",
          "1958-02-01T00:00:00",
          "1958-03-01T00:00:00",
          "1958-04-01T00:00:00",
          "1958-05-01T00:00:00",
          "1958-06-01T00:00:00",
          "1958-07-01T00:00:00",
          "1958-08-01T00:00:00",
          "1958-09-01T00:00:00",
          "1958-10-01T00:00:00",
          "1958-11-01T00:00:00",
          "1958-12-01T00:00:00",
          "1959-01-01T00:00:00",
          "1959-02-01T00:00:00",
          "1959-03-01T00:00:00",
          "1959-04-01T00:00:00",
          "1959-05-01T00:00:00",
          "1959-06-01T00:00:00",
          "1959-07-01T00:00:00",
          "1959-08-01T00:00:00",
          "1959-09-01T00:00:00",
          "1959-10-01T00:00:00",
          "1959-11-01T00:00:00",
          "1959-12-01T00:00:00",
          "1960-01-01T00:00:00",
          "1960-02-01T00:00:00",
          "1960-03-01T00:00:00",
          "1960-04-01T00:00:00",
          "1960-05-01T00:00:00",
          "1960-06-01T00:00:00",
          "1960-07-01T00:00:00",
          "1960-08-01T00:00:00",
          "1960-09-01T00:00:00",
          "1960-10-01T00:00:00",
          "1960-11-01T00:00:00",
          "1960-12-01T00:00:00",
          "1961-01-01T00:00:00",
          "1961-02-01T00:00:00",
          "1961-03-01T00:00:00",
          "1961-04-01T00:00:00",
          "1961-05-01T00:00:00",
          "1961-06-01T00:00:00",
          "1961-07-01T00:00:00",
          "1961-08-01T00:00:00",
          "1961-09-01T00:00:00",
          "1961-10-01T00:00:00",
          "1961-11-01T00:00:00",
          "1961-12-01T00:00:00",
          "1962-01-01T00:00:00",
          "1962-02-01T00:00:00",
          "1962-03-01T00:00:00",
          "1962-04-01T00:00:00",
          "1962-05-01T00:00:00",
          "1962-06-01T00:00:00",
          "1962-07-01T00:00:00",
          "1962-08-01T00:00:00",
          "1962-09-01T00:00:00",
          "1962-10-01T00:00:00",
          "1962-11-01T00:00:00",
          "1962-12-01T00:00:00"
         ],
         "y": [
          315.9466247558594,
          303.0155334472656,
          343.8261413574219,
          346.2880859375,
          356.3612365722656,
          410.5340576171875,
          466.5248107910156,
          465.1365966796875,
          392.2076416015625,
          346.9964904785156,
          300.10791015625,
          333.07525634765625,
          342.33294677734375,
          324.4432373046875,
          368.6864318847656,
          368.70654296875,
          378.1275329589844,
          433.1010437011719,
          491.65118408203125,
          486.99639892578125,
          408.4741516113281,
          357.83428955078125,
          311.587890625,
          347.42822265625,
          362.1898193359375,
          343.9436950683594,
          396.1356201171875,
          398.8096618652344,
          413.13201904296875,
          477.66180419921875,
          550.1723022460938,
          549.1079711914062,
          462.7704162597656,
          404.7622375488281,
          350.3740234375,
          390.0672302246094,
          409.0461730957031,
          384.99456787109375,
          445.9870910644531,
          450.4328918457031,
          464.349365234375,
          543.642822265625,
          622.4398803710938,
          621.066162109375,
          515.3809814453125,
          452.4532470703125,
          385.72796630859375,
          438.0412292480469,
          451.5158386230469,
          430.01177978515625,
          496.5435485839844,
          500.2221374511719,
          516.3492431640625,
          604.441162109375,
          695.3756103515625,
          692.6328735351562,
          573.3892822265625,
          499.458251953125,
          424.492919921875,
          480.685546875,
          498.3801574707031,
          471.0467529296875,
          547.1581420898438,
          549.880126953125,
          568.4249267578125,
          664.8568115234375,
          768.3697509765625,
          764.175537109375,
          631.8123779296875,
          546.4202270507812,
          463.5228271484375,
          522.956787109375
         ]
        },
        {
         "marker": {
          "color": "black",
          "size": 4
         },
         "mode": "markers",
         "name": "Actual",
         "type": "scatter",
         "x": [
          "1957-01-01T00:00:00",
          "1957-02-01T00:00:00",
          "1957-03-01T00:00:00",
          "1957-04-01T00:00:00",
          "1957-05-01T00:00:00",
          "1957-06-01T00:00:00",
          "1957-07-01T00:00:00",
          "1957-08-01T00:00:00",
          "1957-09-01T00:00:00",
          "1957-10-01T00:00:00",
          "1957-11-01T00:00:00",
          "1957-12-01T00:00:00",
          "1958-01-01T00:00:00",
          "1958-02-01T00:00:00",
          "1958-03-01T00:00:00",
          "1958-04-01T00:00:00",
          "1958-05-01T00:00:00",
          "1958-06-01T00:00:00",
          "1958-07-01T00:00:00",
          "1958-08-01T00:00:00",
          "1958-09-01T00:00:00",
          "1958-10-01T00:00:00",
          "1958-11-01T00:00:00",
          "1958-12-01T00:00:00",
          "1959-01-01T00:00:00",
          "1959-02-01T00:00:00",
          "1959-03-01T00:00:00",
          "1959-04-01T00:00:00",
          "1959-05-01T00:00:00",
          "1959-06-01T00:00:00",
          "1959-07-01T00:00:00",
          "1959-08-01T00:00:00",
          "1959-09-01T00:00:00",
          "1959-10-01T00:00:00",
          "1959-11-01T00:00:00",
          "1959-12-01T00:00:00",
          "1960-01-01T00:00:00",
          "1960-02-01T00:00:00",
          "1960-03-01T00:00:00",
          "1960-04-01T00:00:00",
          "1960-05-01T00:00:00",
          "1960-06-01T00:00:00",
          "1960-07-01T00:00:00",
          "1960-08-01T00:00:00",
          "1960-09-01T00:00:00",
          "1960-10-01T00:00:00",
          "1960-11-01T00:00:00",
          "1960-12-01T00:00:00",
          "1961-01-01T00:00:00",
          "1961-02-01T00:00:00",
          "1961-03-01T00:00:00",
          "1961-04-01T00:00:00",
          "1961-05-01T00:00:00",
          "1961-06-01T00:00:00",
          "1961-07-01T00:00:00",
          "1961-08-01T00:00:00",
          "1961-09-01T00:00:00",
          "1961-10-01T00:00:00",
          "1961-11-01T00:00:00",
          "1961-12-01T00:00:00",
          "1962-01-01T00:00:00",
          "1962-02-01T00:00:00",
          "1962-03-01T00:00:00",
          "1962-04-01T00:00:00",
          "1962-05-01T00:00:00",
          "1962-06-01T00:00:00",
          "1962-07-01T00:00:00",
          "1962-08-01T00:00:00",
          "1962-09-01T00:00:00",
          "1962-10-01T00:00:00",
          "1962-11-01T00:00:00",
          "1962-12-01T00:00:00"
         ],
         "y": [
          315,
          301,
          356,
          348,
          355,
          422,
          465,
          467,
          404,
          347,
          305,
          336,
          340,
          318,
          362,
          348,
          363,
          435,
          491,
          505,
          404,
          359,
          310,
          337,
          360,
          342,
          406,
          396,
          420,
          472,
          548,
          559,
          463,
          407,
          362,
          405,
          417,
          391,
          419,
          461,
          472,
          535,
          622,
          606,
          508,
          461,
          390,
          432,
          null,
          null,
          null,
          null,
          null,
          null,
          null,
          null,
          null,
          null,
          null,
          null,
          null,
          null,
          null,
          null,
          null,
          null,
          null,
          null,
          null,
          null,
          null,
          null
         ]
        }
       ],
       "layout": {
        "autosize": true,
        "font": {
         "size": 10
        },
        "height": 420,
        "hovermode": "x unified",
        "margin": {
         "b": 0,
         "l": 0,
         "pad": 0,
         "r": 10,
         "t": 10
        },
        "showlegend": true,
        "template": {
         "data": {
          "bar": [
           {
            "error_x": {
             "color": "#2a3f5f"
            },
            "error_y": {
             "color": "#2a3f5f"
            },
            "marker": {
             "line": {
              "color": "white",
              "width": 0.5
             },
             "pattern": {
              "fillmode": "overlay",
              "size": 10,
              "solidity": 0.2
             }
            },
            "type": "bar"
           }
          ],
          "barpolar": [
           {
            "marker": {
             "line": {
              "color": "white",
              "width": 0.5
             },
             "pattern": {
              "fillmode": "overlay",
              "size": 10,
              "solidity": 0.2
             }
            },
            "type": "barpolar"
           }
          ],
          "carpet": [
           {
            "aaxis": {
             "endlinecolor": "#2a3f5f",
             "gridcolor": "#C8D4E3",
             "linecolor": "#C8D4E3",
             "minorgridcolor": "#C8D4E3",
             "startlinecolor": "#2a3f5f"
            },
            "baxis": {
             "endlinecolor": "#2a3f5f",
             "gridcolor": "#C8D4E3",
             "linecolor": "#C8D4E3",
             "minorgridcolor": "#C8D4E3",
             "startlinecolor": "#2a3f5f"
            },
            "type": "carpet"
           }
          ],
          "choropleth": [
           {
            "colorbar": {
             "outlinewidth": 0,
             "ticks": ""
            },
            "type": "choropleth"
           }
          ],
          "contour": [
           {
            "colorbar": {
             "outlinewidth": 0,
             "ticks": ""
            },
            "colorscale": [
             [
              0,
              "#0d0887"
             ],
             [
              0.1111111111111111,
              "#46039f"
             ],
             [
              0.2222222222222222,
              "#7201a8"
             ],
             [
              0.3333333333333333,
              "#9c179e"
             ],
             [
              0.4444444444444444,
              "#bd3786"
             ],
             [
              0.5555555555555556,
              "#d8576b"
             ],
             [
              0.6666666666666666,
              "#ed7953"
             ],
             [
              0.7777777777777778,
              "#fb9f3a"
             ],
             [
              0.8888888888888888,
              "#fdca26"
             ],
             [
              1,
              "#f0f921"
             ]
            ],
            "type": "contour"
           }
          ],
          "contourcarpet": [
           {
            "colorbar": {
             "outlinewidth": 0,
             "ticks": ""
            },
            "type": "contourcarpet"
           }
          ],
          "heatmap": [
           {
            "colorbar": {
             "outlinewidth": 0,
             "ticks": ""
            },
            "colorscale": [
             [
              0,
              "#0d0887"
             ],
             [
              0.1111111111111111,
              "#46039f"
             ],
             [
              0.2222222222222222,
              "#7201a8"
             ],
             [
              0.3333333333333333,
              "#9c179e"
             ],
             [
              0.4444444444444444,
              "#bd3786"
             ],
             [
              0.5555555555555556,
              "#d8576b"
             ],
             [
              0.6666666666666666,
              "#ed7953"
             ],
             [
              0.7777777777777778,
              "#fb9f3a"
             ],
             [
              0.8888888888888888,
              "#fdca26"
             ],
             [
              1,
              "#f0f921"
             ]
            ],
            "type": "heatmap"
           }
          ],
          "heatmapgl": [
           {
            "colorbar": {
             "outlinewidth": 0,
             "ticks": ""
            },
            "colorscale": [
             [
              0,
              "#0d0887"
             ],
             [
              0.1111111111111111,
              "#46039f"
             ],
             [
              0.2222222222222222,
              "#7201a8"
             ],
             [
              0.3333333333333333,
              "#9c179e"
             ],
             [
              0.4444444444444444,
              "#bd3786"
             ],
             [
              0.5555555555555556,
              "#d8576b"
             ],
             [
              0.6666666666666666,
              "#ed7953"
             ],
             [
              0.7777777777777778,
              "#fb9f3a"
             ],
             [
              0.8888888888888888,
              "#fdca26"
             ],
             [
              1,
              "#f0f921"
             ]
            ],
            "type": "heatmapgl"
           }
          ],
          "histogram": [
           {
            "marker": {
             "pattern": {
              "fillmode": "overlay",
              "size": 10,
              "solidity": 0.2
             }
            },
            "type": "histogram"
           }
          ],
          "histogram2d": [
           {
            "colorbar": {
             "outlinewidth": 0,
             "ticks": ""
            },
            "colorscale": [
             [
              0,
              "#0d0887"
             ],
             [
              0.1111111111111111,
              "#46039f"
             ],
             [
              0.2222222222222222,
              "#7201a8"
             ],
             [
              0.3333333333333333,
              "#9c179e"
             ],
             [
              0.4444444444444444,
              "#bd3786"
             ],
             [
              0.5555555555555556,
              "#d8576b"
             ],
             [
              0.6666666666666666,
              "#ed7953"
             ],
             [
              0.7777777777777778,
              "#fb9f3a"
             ],
             [
              0.8888888888888888,
              "#fdca26"
             ],
             [
              1,
              "#f0f921"
             ]
            ],
            "type": "histogram2d"
           }
          ],
          "histogram2dcontour": [
           {
            "colorbar": {
             "outlinewidth": 0,
             "ticks": ""
            },
            "colorscale": [
             [
              0,
              "#0d0887"
             ],
             [
              0.1111111111111111,
              "#46039f"
             ],
             [
              0.2222222222222222,
              "#7201a8"
             ],
             [
              0.3333333333333333,
              "#9c179e"
             ],
             [
              0.4444444444444444,
              "#bd3786"
             ],
             [
              0.5555555555555556,
              "#d8576b"
             ],
             [
              0.6666666666666666,
              "#ed7953"
             ],
             [
              0.7777777777777778,
              "#fb9f3a"
             ],
             [
              0.8888888888888888,
              "#fdca26"
             ],
             [
              1,
              "#f0f921"
             ]
            ],
            "type": "histogram2dcontour"
           }
          ],
          "mesh3d": [
           {
            "colorbar": {
             "outlinewidth": 0,
             "ticks": ""
            },
            "type": "mesh3d"
           }
          ],
          "parcoords": [
           {
            "line": {
             "colorbar": {
              "outlinewidth": 0,
              "ticks": ""
             }
            },
            "type": "parcoords"
           }
          ],
          "pie": [
           {
            "automargin": true,
            "type": "pie"
           }
          ],
          "scatter": [
           {
            "fillpattern": {
             "fillmode": "overlay",
             "size": 10,
             "solidity": 0.2
            },
            "type": "scatter"
           }
          ],
          "scatter3d": [
           {
            "line": {
             "colorbar": {
              "outlinewidth": 0,
              "ticks": ""
             }
            },
            "marker": {
             "colorbar": {
              "outlinewidth": 0,
              "ticks": ""
             }
            },
            "type": "scatter3d"
           }
          ],
          "scattercarpet": [
           {
            "marker": {
             "colorbar": {
              "outlinewidth": 0,
              "ticks": ""
             }
            },
            "type": "scattercarpet"
           }
          ],
          "scattergeo": [
           {
            "marker": {
             "colorbar": {
              "outlinewidth": 0,
              "ticks": ""
             }
            },
            "type": "scattergeo"
           }
          ],
          "scattergl": [
           {
            "marker": {
             "colorbar": {
              "outlinewidth": 0,
              "ticks": ""
             }
            },
            "type": "scattergl"
           }
          ],
          "scattermapbox": [
           {
            "marker": {
             "colorbar": {
              "outlinewidth": 0,
              "ticks": ""
             }
            },
            "type": "scattermapbox"
           }
          ],
          "scatterpolar": [
           {
            "marker": {
             "colorbar": {
              "outlinewidth": 0,
              "ticks": ""
             }
            },
            "type": "scatterpolar"
           }
          ],
          "scatterpolargl": [
           {
            "marker": {
             "colorbar": {
              "outlinewidth": 0,
              "ticks": ""
             }
            },
            "type": "scatterpolargl"
           }
          ],
          "scatterternary": [
           {
            "marker": {
             "colorbar": {
              "outlinewidth": 0,
              "ticks": ""
             }
            },
            "type": "scatterternary"
           }
          ],
          "surface": [
           {
            "colorbar": {
             "outlinewidth": 0,
             "ticks": ""
            },
            "colorscale": [
             [
              0,
              "#0d0887"
             ],
             [
              0.1111111111111111,
              "#46039f"
             ],
             [
              0.2222222222222222,
              "#7201a8"
             ],
             [
              0.3333333333333333,
              "#9c179e"
             ],
             [
              0.4444444444444444,
              "#bd3786"
             ],
             [
              0.5555555555555556,
              "#d8576b"
             ],
             [
              0.6666666666666666,
              "#ed7953"
             ],
             [
              0.7777777777777778,
              "#fb9f3a"
             ],
             [
              0.8888888888888888,
              "#fdca26"
             ],
             [
              1,
              "#f0f921"
             ]
            ],
            "type": "surface"
           }
          ],
          "table": [
           {
            "cells": {
             "fill": {
              "color": "#EBF0F8"
             },
             "line": {
              "color": "white"
             }
            },
            "header": {
             "fill": {
              "color": "#C8D4E3"
             },
             "line": {
              "color": "white"
             }
            },
            "type": "table"
           }
          ]
         },
         "layout": {
          "annotationdefaults": {
           "arrowcolor": "#2a3f5f",
           "arrowhead": 0,
           "arrowwidth": 1
          },
          "autotypenumbers": "strict",
          "coloraxis": {
           "colorbar": {
            "outlinewidth": 0,
            "ticks": ""
           }
          },
          "colorscale": {
           "diverging": [
            [
             0,
             "#8e0152"
            ],
            [
             0.1,
             "#c51b7d"
            ],
            [
             0.2,
             "#de77ae"
            ],
            [
             0.3,
             "#f1b6da"
            ],
            [
             0.4,
             "#fde0ef"
            ],
            [
             0.5,
             "#f7f7f7"
            ],
            [
             0.6,
             "#e6f5d0"
            ],
            [
             0.7,
             "#b8e186"
            ],
            [
             0.8,
             "#7fbc41"
            ],
            [
             0.9,
             "#4d9221"
            ],
            [
             1,
             "#276419"
            ]
           ],
           "sequential": [
            [
             0,
             "#0d0887"
            ],
            [
             0.1111111111111111,
             "#46039f"
            ],
            [
             0.2222222222222222,
             "#7201a8"
            ],
            [
             0.3333333333333333,
             "#9c179e"
            ],
            [
             0.4444444444444444,
             "#bd3786"
            ],
            [
             0.5555555555555556,
             "#d8576b"
            ],
            [
             0.6666666666666666,
             "#ed7953"
            ],
            [
             0.7777777777777778,
             "#fb9f3a"
            ],
            [
             0.8888888888888888,
             "#fdca26"
            ],
            [
             1,
             "#f0f921"
            ]
           ],
           "sequentialminus": [
            [
             0,
             "#0d0887"
            ],
            [
             0.1111111111111111,
             "#46039f"
            ],
            [
             0.2222222222222222,
             "#7201a8"
            ],
            [
             0.3333333333333333,
             "#9c179e"
            ],
            [
             0.4444444444444444,
             "#bd3786"
            ],
            [
             0.5555555555555556,
             "#d8576b"
            ],
            [
             0.6666666666666666,
             "#ed7953"
            ],
            [
             0.7777777777777778,
             "#fb9f3a"
            ],
            [
             0.8888888888888888,
             "#fdca26"
            ],
            [
             1,
             "#f0f921"
            ]
           ]
          },
          "colorway": [
           "#636efa",
           "#EF553B",
           "#00cc96",
           "#ab63fa",
           "#FFA15A",
           "#19d3f3",
           "#FF6692",
           "#B6E880",
           "#FF97FF",
           "#FECB52"
          ],
          "font": {
           "color": "#2a3f5f"
          },
          "geo": {
           "bgcolor": "white",
           "lakecolor": "white",
           "landcolor": "white",
           "showlakes": true,
           "showland": true,
           "subunitcolor": "#C8D4E3"
          },
          "hoverlabel": {
           "align": "left"
          },
          "hovermode": "closest",
          "mapbox": {
           "style": "light"
          },
          "paper_bgcolor": "white",
          "plot_bgcolor": "white",
          "polar": {
           "angularaxis": {
            "gridcolor": "#EBF0F8",
            "linecolor": "#EBF0F8",
            "ticks": ""
           },
           "bgcolor": "white",
           "radialaxis": {
            "gridcolor": "#EBF0F8",
            "linecolor": "#EBF0F8",
            "ticks": ""
           }
          },
          "scene": {
           "xaxis": {
            "backgroundcolor": "white",
            "gridcolor": "#DFE8F3",
            "gridwidth": 2,
            "linecolor": "#EBF0F8",
            "showbackground": true,
            "ticks": "",
            "zerolinecolor": "#EBF0F8"
           },
           "yaxis": {
            "backgroundcolor": "white",
            "gridcolor": "#DFE8F3",
            "gridwidth": 2,
            "linecolor": "#EBF0F8",
            "showbackground": true,
            "ticks": "",
            "zerolinecolor": "#EBF0F8"
           },
           "zaxis": {
            "backgroundcolor": "white",
            "gridcolor": "#DFE8F3",
            "gridwidth": 2,
            "linecolor": "#EBF0F8",
            "showbackground": true,
            "ticks": "",
            "zerolinecolor": "#EBF0F8"
           }
          },
          "shapedefaults": {
           "line": {
            "color": "#2a3f5f"
           }
          },
          "ternary": {
           "aaxis": {
            "gridcolor": "#DFE8F3",
            "linecolor": "#A2B1C6",
            "ticks": ""
           },
           "baxis": {
            "gridcolor": "#DFE8F3",
            "linecolor": "#A2B1C6",
            "ticks": ""
           },
           "bgcolor": "white",
           "caxis": {
            "gridcolor": "#DFE8F3",
            "linecolor": "#A2B1C6",
            "ticks": ""
           }
          },
          "title": {
           "x": 0.05
          },
          "xaxis": {
           "automargin": true,
           "gridcolor": "#EBF0F8",
           "linecolor": "#EBF0F8",
           "ticks": "",
           "title": {
            "standoff": 15
           },
           "zerolinecolor": "#EBF0F8",
           "zerolinewidth": 2
          },
          "yaxis": {
           "automargin": true,
           "gridcolor": "#EBF0F8",
           "linecolor": "#EBF0F8",
           "ticks": "",
           "title": {
            "standoff": 15
           },
           "zerolinecolor": "#EBF0F8",
           "zerolinewidth": 2
          }
         }
        },
        "title": {
         "font": {
          "size": 12
         }
        },
        "width": 700,
        "xaxis": {
         "linewidth": 1.5,
         "mirror": true,
         "rangeselector": {
          "buttons": [
           {
            "count": 7,
            "label": "1w",
            "step": "day",
            "stepmode": "backward"
           },
           {
            "count": 1,
            "label": "1m",
            "step": "month",
            "stepmode": "backward"
           },
           {
            "count": 6,
            "label": "6m",
            "step": "month",
            "stepmode": "backward"
           },
           {
            "count": 1,
            "label": "1y",
            "step": "year",
            "stepmode": "backward"
           },
           {
            "step": "all"
           }
          ]
         },
         "rangeslider": {
          "visible": true
         },
         "showline": true,
         "title": {
          "text": "ds"
         },
         "type": "date"
        },
        "yaxis": {
         "linewidth": 1.5,
         "mirror": true,
         "showline": true,
         "title": {
          "text": "y"
         }
        }
       }
      }
     },
     "metadata": {},
     "output_type": "display_data"
    },
    {
     "data": {
      "image/png": "[encoded data removed]",
      "text/plain": [
       "<Figure size 720x432 with 1 Axes>"
      ]
     },
     "metadata": {},
     "output_type": "display_data"
    }
   ],
   "source": [
    "m = NeuralProphet(seasonality_mode= \"multiplicative\", learning_rate = 0.1)\n",
    "metrics_train2 = m.fit(df=df, freq=\"MS\")\n",
    "future = m.make_future_dataframe(df, periods=24, n_historic_predictions=48)\n",
    "forecast = m.predict(future)\n",
    "fig = m.plot(forecast)\n",
    "fig = m.plot(forecast, plotting_backend=\"plotly\").show()"
   ]
  },
  {
   "cell_type": "markdown",
   "id": "c7960ba2-6d3a-464c-837a-e8f844839d59",
   "metadata": {},
   "source": [
    "### 1.3 Bonus: Visualize training\n",
    "If you installed the `[live]` version of NeuralProphet, you can additionally visualize your training progress and spot any overfitting by evaluating every epoch.\n",
    "\n",
    "Note: Again, before making any predictions, re-fit the model with the entire data first."
   ]
  },
  {
   "cell_type": "code",
   "execution_count": 5,
   "id": "db5b66bb-9734-49f9-af09-bc497509e040",
   "metadata": {},
   "outputs": [
    {
     "data": {
      "image/png": "[encoded data removed]",
      "text/plain": [
       "<Figure size 864x576 with 2 Axes>"
      ]
     },
     "metadata": {
      "needs_background": "light"
     },
     "output_type": "display_data"
    },
    {
     "name": "stdout",
     "output_type": "stream",
     "text": [
      "log-SmoothL1Loss\n",
      "\ttraining         \t (min:   -8.057, max:   -1.180, cur:   -8.056)\n",
      "\tvalidation       \t (min:   -6.522, max:    0.096, cur:   -5.225)\n"
     ]
    }
   ],
   "source": [
    "m = NeuralProphet(seasonality_mode=\"multiplicative\", learning_rate=0.1)\n",
    "\n",
    "df = pd.read_csv(data_location + \"air_passengers.csv\")\n",
    "df_train, df_test = m.split_df(df=df, freq=\"MS\", valid_p=0.2)\n",
    "\n",
    "metrics = m.fit(df=df_train, freq=\"MS\", validation_df=df_test, progress=\"plot\")"
   ]
  },
  {
   "cell_type": "code",
   "execution_count": 6,
   "id": "c84678f9-219f-4c7f-acca-3ff5b958855d",
   "metadata": {},
   "outputs": [
    {
     "data": {
      "text/html": [
       "<div>\n",
       "<style scoped>\n",
       "    .dataframe tbody tr th:only-of-type {\n",
       "        vertical-align: middle;\n",
       "    }\n",
       "\n",
       "    .dataframe tbody tr th {\n",
       "        vertical-align: top;\n",
       "    }\n",
       "\n",
       "    .dataframe thead th {\n",
       "        text-align: right;\n",
       "    }\n",
       "</style>\n",
       "<table border=\"1\" class=\"dataframe\">\n",
       "  <thead>\n",
       "    <tr style=\"text-align: right;\">\n",
       "      <th></th>\n",
       "      <th>SmoothL1Loss</th>\n",
       "      <th>MAE</th>\n",
       "      <th>RMSE</th>\n",
       "      <th>RegLoss</th>\n",
       "      <th>SmoothL1Loss_val</th>\n",
       "      <th>MAE_val</th>\n",
       "      <th>RMSE_val</th>\n",
       "    </tr>\n",
       "  </thead>\n",
       "  <tbody>\n",
       "    <tr>\n",
       "      <th>491</th>\n",
       "      <td>0.000317</td>\n",
       "      <td>6.253323</td>\n",
       "      <td>7.98157</td>\n",
       "      <td>0.0</td>\n",
       "      <td>0.005382</td>\n",
       "      <td>27.075563</td>\n",
       "      <td>32.993301</td>\n",
       "    </tr>\n",
       "  </tbody>\n",
       "</table>\n",
       "</div>"
      ],
      "text/plain": [
       "     SmoothL1Loss       MAE     RMSE  RegLoss  SmoothL1Loss_val    MAE_val  \\\n",
       "491      0.000317  6.253323  7.98157      0.0          0.005382  27.075563   \n",
       "\n",
       "      RMSE_val  \n",
       "491  32.993301  "
      ]
     },
     "execution_count": 6,
     "metadata": {},
     "output_type": "execute_result"
    }
   ],
   "source": [
    "metrics.tail(1)"
   ]
  },
  {
   "cell_type": "markdown",
   "id": "3b0507f5-e4c6-4d97-845f-98a32cd0c64a",
   "metadata": {},
   "source": [
    "## 2. Time-series Cross-Validation\n",
    "Time-series crossvalidation is also known as rolling origin backtest. In the first fold, we start with some data to train the model, and evaluate over the next `fold_pct` data points. In the next fold, the previous evaluation data is added to training, and evaluation starts later (forecast orgin 'rolls' forward), again measuring accuracy over the next section of data. We repeat this, until the final folds evaluation data reaches the end of the data.\n",
    "\n",
    "Note: before making any actual forecasts, re-fit the model on all data available, else you are greatly reducing your forecast accuracy!"
   ]
  },
  {
   "cell_type": "code",
   "execution_count": 7,
   "id": "fbf84c93-dc7c-406d-941a-87ae5b8adafa",
   "metadata": {},
   "outputs": [],
   "source": [
    "METRICS = ['SmoothL1Loss', 'MAE', 'RMSE']\n",
    "params = {\"seasonality_mode\": \"multiplicative\", \"learning_rate\": 0.1}\n",
    "\n",
    "df = pd.read_csv(data_location + \"air_passengers.csv\")\n",
    "folds = NeuralProphet(**params).crossvalidation_split_df(df, freq=\"MS\", k=5, fold_pct=0.20, fold_overlap_pct=0.5)"
   ]
  },
  {
   "cell_type": "code",
   "execution_count": null,
   "id": "b585c737-08f6-468e-890a-558348f6b9ee",
   "metadata": {
    "tags": []
   },
   "outputs": [],
   "source": [
    "metrics_train = pd.DataFrame(columns=METRICS)\n",
    "metrics_test = pd.DataFrame(columns=METRICS)\n",
    "\n",
    "for df_train, df_test in folds:\n",
    "    m = NeuralProphet(**params)\n",
    "    train = m.fit(df=df_train, freq=\"MS\")\n",
    "    test = m.test(df=df_test)\n",
    "    metrics_train = metrics_train.append(train[METRICS].iloc[-1])\n",
    "    metrics_test = metrics_test.append(test[METRICS].iloc[-1])"
   ]
  },
  {
   "cell_type": "code",
   "execution_count": null,
   "id": "e09fc84b-3e11-47be-aa88-024b0c27c8a1",
   "metadata": {
    "tags": []
   },
   "outputs": [],
   "source": [
    "metrics_test.describe().loc[[\"mean\", \"std\", \"min\", \"max\"]]"
   ]
  },
  {
   "cell_type": "markdown",
   "id": "d151730f-3354-47da-9d92-15abc3c87e2a",
   "metadata": {
    "tags": []
   },
   "source": [
    "## 2 Using Benchmark Framework\n",
    "The benchmark framework is designed for a 2 phase evaluation pipeline. This is in most cases sufficient, particularly when using crossvalidation. For the remainder of this tutorial we will be using normal Train-Test or Cross-Validation evaluation setups.\n",
    "\n",
    "Note: The Benchmarking Framework does currently not properly support auto-regression or lagged covariates with multiple step ahead forecasts."
   ]
  },
  {
   "cell_type": "code",
   "execution_count": 10,
   "id": "f23fd06b-2f0c-4f2c-92fa-5ad28e286d4c",
   "metadata": {},
   "outputs": [],
   "source": [
    "from neuralprophet.benchmark import Dataset, NeuralProphetModel, SimpleExperiment, CrossValidationExperiment"
   ]
  },
  {
   "cell_type": "markdown",
   "id": "87473a1c-e394-4b21-bba8-ae107671f114",
   "metadata": {},
   "source": [
    "### 2.1 SimpleExperiment\n",
    "Let's set up a train test experiment:"
   ]
  },
  {
   "cell_type": "code",
   "execution_count": null,
   "id": "c7d050b7-2b8e-40d1-ba4d-e43e22a64c48",
   "metadata": {},
   "outputs": [],
   "source": [
    "ts = Dataset(df = pd.read_csv(data_location + \"air_passengers.csv\"), name = \"air_passengers\", freq = \"MS\")\n",
    "params = {\"seasonality_mode\": \"multiplicative\"}\n",
    "exp = SimpleExperiment(\n",
    "    model_class=NeuralProphetModel,\n",
    "    params=params,\n",
    "    data=ts,\n",
    "    metrics=[\"MASE\", \"RMSE\"],\n",
    "    test_percentage=25,\n",
    ")\n",
    "result_train, result_test = exp.run()"
   ]
  },
  {
   "cell_type": "code",
   "execution_count": null,
   "id": "9b05621e-844f-4291-a81b-109e424829e7",
   "metadata": {},
   "outputs": [
    {
     "data": {
      "text/plain": [
       "{'data': 'air_passengers',\n",
       " 'model': 'NeuralProphet',\n",
       " 'params': \"{'seasonality_mode': 'multiplicative'}\",\n",
       " 'MASE': 1.1829004,\n",
       " 'RMSE': 28.209255}"
      ]
     },
     "execution_count": 12,
     "metadata": {},
     "output_type": "execute_result"
    }
   ],
   "source": [
    "# result_train\n",
    "result_test"
   ]
  },
  {
   "cell_type": "markdown",
   "id": "2c3e88e1-d1b9-46cc-bd8d-88dbf2f8fd93",
   "metadata": {
    "tags": []
   },
   "source": [
    "### 2.2 CrossValidationExperiment\n",
    "Let's crossvalidate:"
   ]
  },
  {
   "cell_type": "code",
   "execution_count": null,
   "id": "9a5812bd-45d5-4a45-af9f-8dac25524e15",
   "metadata": {},
   "outputs": [],
   "source": [
    "ts = Dataset(df = pd.read_csv(data_location + \"air_passengers.csv\"), name = \"air_passengers\", freq = \"MS\")\n",
    "params = {\"seasonality_mode\": \"multiplicative\"}\n",
    "exp_cv = CrossValidationExperiment(\n",
    "    model_class=NeuralProphetModel,\n",
    "    params=params,\n",
    "    data=ts,\n",
    "    metrics=[\"MASE\", \"RMSE\"],\n",
    "    test_percentage=10,\n",
    "    num_folds=3,\n",
    "    fold_overlap_pct=0,\n",
    "  )\n",
    "result_train, result_test = exp_cv.run()"
   ]
  },
  {
   "cell_type": "code",
   "execution_count": null,
   "id": "4a5d79f1-f61f-4c7d-9709-15535f1be8c9",
   "metadata": {},
   "outputs": [
    {
     "data": {
      "text/plain": [
       "{'data': 'air_passengers',\n",
       " 'model': 'NeuralProphet',\n",
       " 'params': \"{'seasonality_mode': 'multiplicative'}\",\n",
       " 'MASE': [0.85484904, 0.6028522, 1.1679459],\n",
       " 'RMSE': [20.538774, 16.134226, 28.71692]}"
      ]
     },
     "execution_count": 14,
     "metadata": {},
     "output_type": "execute_result"
    }
   ],
   "source": [
    "result_test"
   ]
  },
  {
   "cell_type": "markdown",
   "id": "bbd37a7c-17eb-4f6f-a7c8-f4ac15c41183",
   "metadata": {
    "tags": []
   },
   "source": [
    "## 3. Advanced: 3-Phase Train, Validate and Test procedure\n",
    "Finally, in 3.1 and 3.2, we will do a 3-part data split to do a proper training, validation and test evaluation of your model. This setup is used if you do not want to bias your performance evaluation by your manual hyperparameter tuning. this is, however not common when working with time series, unless you work in academia. Crossvalidation is usually more than adequate to evaluate your model performance.\n",
    "\n",
    "If you are confused by this, simply ignore this section and continue your forecasting life. Or if you got curious, read up on how to evaluate machine learning models to level up your skills. "
   ]
  },
  {
   "cell_type": "markdown",
   "id": "44add497-fd4b-4926-9338-9b507bbec4e3",
   "metadata": {},
   "source": [
    "### 3.1 Train, Validate and Test evaluation"
   ]
  },
  {
   "cell_type": "code",
   "execution_count": null,
   "id": "8e342fef-b57d-4ab8-8550-f9311cb0e032",
   "metadata": {},
   "outputs": [
    {
     "name": "stderr",
     "output_type": "stream",
     "text": [
      "                                                                                                                                                        \r"
     ]
    }
   ],
   "source": [
    "m = NeuralProphet(seasonality_mode= \"multiplicative\", learning_rate = 0.1)\n",
    "\n",
    "df = pd.read_csv(data_location + \"air_passengers.csv\")\n",
    "# create a test holdout set:\n",
    "df_train_val, df_test = m.split_df(df=df, freq=\"MS\", valid_p=0.2)\n",
    "# create a validation holdout set:\n",
    "df_train, df_val = m.split_df(df=df_train_val, freq=\"MS\", valid_p=0.2)\n",
    "\n",
    "# fit a model on training data and evaluate on validation set.\n",
    "metrics_train1 = m.fit(df=df_train, freq=\"MS\")\n",
    "metrics_val = m.test(df=df_val)\n",
    "\n",
    "# refit model on training and validation data and evaluate on test set.\n",
    "m = NeuralProphet(seasonality_mode= \"multiplicative\", learning_rate = 0.1)\n",
    "metrics_train2 = m.fit(df=df_train_val, freq=\"MS\")\n",
    "metrics_test = m.test(df=df_test)"
   ]
  },
  {
   "cell_type": "code",
   "execution_count": null,
   "id": "635e284c-b3b7-477c-ada0-9a131912137f",
   "metadata": {},
   "outputs": [
    {
     "data": {
      "text/html": [
       "<div>\n",
       "<style scoped>\n",
       "    .dataframe tbody tr th:only-of-type {\n",
       "        vertical-align: middle;\n",
       "    }\n",
       "\n",
       "    .dataframe tbody tr th {\n",
       "        vertical-align: top;\n",
       "    }\n",
       "\n",
       "    .dataframe thead th {\n",
       "        text-align: right;\n",
       "    }\n",
       "</style>\n",
       "<table border=\"1\" class=\"dataframe\">\n",
       "  <thead>\n",
       "    <tr style=\"text-align: right;\">\n",
       "      <th></th>\n",
       "      <th>SmoothL1Loss</th>\n",
       "      <th>MAE</th>\n",
       "      <th>RMSE</th>\n",
       "      <th>split</th>\n",
       "    </tr>\n",
       "  </thead>\n",
       "  <tbody>\n",
       "    <tr>\n",
       "      <th>563</th>\n",
       "      <td>0.000379</td>\n",
       "      <td>5.379905</td>\n",
       "      <td>6.704538</td>\n",
       "      <td>train1</td>\n",
       "    </tr>\n",
       "    <tr>\n",
       "      <th>491</th>\n",
       "      <td>0.000318</td>\n",
       "      <td>6.277920</td>\n",
       "      <td>7.928728</td>\n",
       "      <td>train2</td>\n",
       "    </tr>\n",
       "    <tr>\n",
       "      <th>0</th>\n",
       "      <td>0.005016</td>\n",
       "      <td>18.140518</td>\n",
       "      <td>25.140703</td>\n",
       "      <td>validate</td>\n",
       "    </tr>\n",
       "    <tr>\n",
       "      <th>0</th>\n",
       "      <td>0.005475</td>\n",
       "      <td>27.335314</td>\n",
       "      <td>33.275681</td>\n",
       "      <td>test</td>\n",
       "    </tr>\n",
       "  </tbody>\n",
       "</table>\n",
       "</div>"
      ],
      "text/plain": [
       "     SmoothL1Loss        MAE       RMSE     split\n",
       "563      0.000379   5.379905   6.704538    train1\n",
       "491      0.000318   6.277920   7.928728    train2\n",
       "0        0.005016  18.140518  25.140703  validate\n",
       "0        0.005475  27.335314  33.275681      test"
      ]
     },
     "execution_count": 18,
     "metadata": {},
     "output_type": "execute_result"
    }
   ],
   "source": [
    "metrics_train1[\"split\"]  = \"train1\"\n",
    "metrics_train2[\"split\"]  = \"train2\"\n",
    "metrics_val[\"split\"] = \"validate\"\n",
    "metrics_test[\"split\"] = \"test\"\n",
    "metrics_train1.tail(1).append([metrics_train2.tail(1), metrics_val, metrics_test]).drop(columns=['RegLoss'])"
   ]
  },
  {
   "cell_type": "markdown",
   "id": "56864317-2b2f-4332-8d76-40a40e287b9d",
   "metadata": {
    "tags": []
   },
   "source": [
    "### 3.2 Train, Cross-Validate and Cross-Test evaluation"
   ]
  },
  {
   "cell_type": "code",
   "execution_count": null,
   "id": "dac90c4f-63e7-42f2-b49e-f6b3177e070f",
   "metadata": {},
   "outputs": [],
   "source": [
    "METRICS = ['SmoothL1Loss', 'MAE', 'RMSE']\n",
    "params = {\"seasonality_mode\": \"multiplicative\", \"learning_rate\": 0.1}\n",
    "\n",
    "df = pd.read_csv(data_location + \"air_passengers.csv\")\n",
    "folds_val, folds_test = NeuralProphet(**params).double_crossvalidation_split_df(df, freq=\"MS\", k=5, valid_pct=0.10, test_pct=0.10)"
   ]
  },
  {
   "cell_type": "code",
   "execution_count": null,
   "id": "96d8154e-c77a-4836-ad92-9b205e88b268",
   "metadata": {
    "tags": []
   },
   "outputs": [],
   "source": [
    "metrics_train1 = pd.DataFrame(columns=METRICS)\n",
    "metrics_val = pd.DataFrame(columns=METRICS)\n",
    "for df_train1, df_val in folds_val:\n",
    "    m = NeuralProphet(**params)\n",
    "    train1 = m.fit(df=df_train, freq=\"MS\")\n",
    "    val = m.test(df=df_val)\n",
    "    metrics_train1 = metrics_train1.append(train1[METRICS].iloc[-1])\n",
    "    metrics_val = metrics_val.append(val[METRICS].iloc[-1])\n",
    "\n",
    "metrics_train2 = pd.DataFrame(columns=METRICS)\n",
    "metrics_test = pd.DataFrame(columns=METRICS)\n",
    "for df_train2, df_test in folds_test:\n",
    "    m = NeuralProphet(**params)\n",
    "    train2 = m.fit(df=df_train2, freq=\"MS\")\n",
    "    test = m.test(df=df_test)\n",
    "    metrics_train2 = metrics_train2.append(train2[METRICS].iloc[-1])\n",
    "    metrics_test = metrics_test.append(test[METRICS].iloc[-1])"
   ]
  },
  {
   "cell_type": "code",
   "execution_count": null,
   "id": "c5ea1cbc-fbb2-46b1-9a43-4547f8b6113a",
   "metadata": {},
   "outputs": [],
   "source": [
    "metrics_train2.describe().loc[[\"mean\", \"std\"]]"
   ]
  },
  {
   "cell_type": "code",
   "execution_count": null,
   "id": "13f96119-df3c-4a0d-adeb-f2816ff88587",
   "metadata": {
    "tags": []
   },
   "outputs": [
    {
     "data": {
      "text/html": [
       "<div>\n",
       "<style scoped>\n",
       "    .dataframe tbody tr th:only-of-type {\n",
       "        vertical-align: middle;\n",
       "    }\n",
       "\n",
       "    .dataframe tbody tr th {\n",
       "        vertical-align: top;\n",
       "    }\n",
       "\n",
       "    .dataframe thead th {\n",
       "        text-align: right;\n",
       "    }\n",
       "</style>\n",
       "<table border=\"1\" class=\"dataframe\">\n",
       "  <thead>\n",
       "    <tr style=\"text-align: right;\">\n",
       "      <th></th>\n",
       "      <th>SmoothL1Loss</th>\n",
       "      <th>MAE</th>\n",
       "      <th>RMSE</th>\n",
       "    </tr>\n",
       "  </thead>\n",
       "  <tbody>\n",
       "    <tr>\n",
       "      <th>mean</th>\n",
       "      <td>0.009150</td>\n",
       "      <td>30.096512</td>\n",
       "      <td>31.593293</td>\n",
       "    </tr>\n",
       "    <tr>\n",
       "      <th>std</th>\n",
       "      <td>0.006674</td>\n",
       "      <td>12.822483</td>\n",
       "      <td>13.912322</td>\n",
       "    </tr>\n",
       "  </tbody>\n",
       "</table>\n",
       "</div>"
      ],
      "text/plain": [
       "      SmoothL1Loss        MAE       RMSE\n",
       "mean      0.009150  30.096512  31.593293\n",
       "std       0.006674  12.822483  13.912322"
      ]
     },
     "execution_count": 22,
     "metadata": {},
     "output_type": "execute_result"
    }
   ],
   "source": [
    "metrics_val.describe().loc[[\"mean\", \"std\"]]"
   ]
  },
  {
   "cell_type": "code",
   "execution_count": null,
   "id": "6c6327f8-bcb3-4454-bc9f-a1fe26f8bea6",
   "metadata": {},
   "outputs": [
    {
     "data": {
      "text/html": [
       "<div>\n",
       "<style scoped>\n",
       "    .dataframe tbody tr th:only-of-type {\n",
       "        vertical-align: middle;\n",
       "    }\n",
       "\n",
       "    .dataframe tbody tr th {\n",
       "        vertical-align: top;\n",
       "    }\n",
       "\n",
       "    .dataframe thead th {\n",
       "        text-align: right;\n",
       "    }\n",
       "</style>\n",
       "<table border=\"1\" class=\"dataframe\">\n",
       "  <thead>\n",
       "    <tr style=\"text-align: right;\">\n",
       "      <th></th>\n",
       "      <th>SmoothL1Loss</th>\n",
       "      <th>MAE</th>\n",
       "      <th>RMSE</th>\n",
       "    </tr>\n",
       "  </thead>\n",
       "  <tbody>\n",
       "    <tr>\n",
       "      <th>mean</th>\n",
       "      <td>0.001057</td>\n",
       "      <td>14.137106</td>\n",
       "      <td>15.214975</td>\n",
       "    </tr>\n",
       "    <tr>\n",
       "      <th>std</th>\n",
       "      <td>0.001216</td>\n",
       "      <td>7.679862</td>\n",
       "      <td>7.979069</td>\n",
       "    </tr>\n",
       "  </tbody>\n",
       "</table>\n",
       "</div>"
      ],
      "text/plain": [
       "      SmoothL1Loss        MAE       RMSE\n",
       "mean      0.001057  14.137106  15.214975\n",
       "std       0.001216   7.679862   7.979069"
      ]
     },
     "execution_count": 23,
     "metadata": {},
     "output_type": "execute_result"
    }
   ],
   "source": [
    "metrics_test.describe().loc[[\"mean\", \"std\"]]"
   ]
  },
  {
   "cell_type": "code",
   "execution_count": null,
   "id": "be076455-5393-4628-9079-7efa60b8e404",
   "metadata": {},
   "outputs": [],
   "source": []
  },
  {
   "cell_type": "code",
   "execution_count": null,
   "id": "c7914244-d306-44be-9e86-2b790315f883",
   "metadata": {},
   "outputs": [],
   "source": []
  }
 ],
 "metadata": {
  "kernelspec": {
   "display_name": "Python 3.8.9 ('venv': venv)",
   "language": "python",
   "name": "python3"
  },
  "language_info": {
   "codemirror_mode": {
    "name": "ipython",
    "version": 3
   },
   "file_extension": ".py",
   "mimetype": "text/x-python",
   "name": "python",
   "nbconvert_exporter": "python",
   "pygments_lexer": "ipython3",
   "version": "3.8.9"
  },
  "vscode": {
   "interpreter": {
    "hash": "e488e6bd15b38f84fe669bfc536f96b6c5fb6be3ab1c1213873b81c0afcbd577"
   }
  }
 },
 "nbformat": 4,
 "nbformat_minor": 5
}
