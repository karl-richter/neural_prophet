{
 "cells": [
  {
   "cell_type": "markdown",
   "metadata": {},
   "source": [
    "## Comparison of Prophet and TorchProphet\n",
    "Both the Prophet and the NeuralProphet model share the concept of decomposing a time series into it's components which allows a human to inspect and interprete the individual components of the forecast. Since NeuralProphet differs both in the functionality and the interface, the TorchProphet allows users to rapidly explore NeuralProphet's capabilities. In the following we will walk through the differences and similarities when working with TorchProphet instead of Prophet.\n",
    "\n",
    "### Identical behaviour\n",
    "- **Trend**  \n",
    "  Both Prophet and TorchProphet provide a trend component that can be predicted using `predict_trend(...)` and configured using the `changepoints` or `n_changepoints` argument during initialization.\n",
    "- **Seasonality**  \n",
    "  Both tools allow to model seasonality by using the `add_seasonality(...)` function or providing the `yearly_seasonality`, `weekly_seasonality`, `daily_seasonality` or `seasonality_mode` argument during initialization.\n",
    "- **Country holidays**  \n",
    "  Both tools allow to add country holidays as special events to the forecast. This is archieved by using the `add_country_holidays(...)` function.\n",
    "- **Future regressors**  \n",
    "  Regressors can be added using the `add_regressor(...)` function in both tools.\n",
    "  > **Info:** In TorchProphet, we differentiate between lagged and future regressors. The `add_regressor(...)` function of Prophet corresponds to the `add_future_regressor(...)` function of TorchProphet.\n",
    "- **Holidays**  \n",
    "  In Prophet, additional events to the country holidays can be added during initialization by passing an `holidays` argument. In TorchProphet, this can be archieved by passing the holidays to the `add_events(...)` function. TorchProphet supports both methods.\n",
    "\n",
    "### Different behaviour\n",
    "- **Regularization**  \n",
    "  In Prophet, the argument `prior_scale` can be used to configure regularization. In TorchProphet, regularization is controlled via the `regularization` argument. `prior_scale` and `regularization` have an inverse relationship but cannot directly be translated. Thus, TorchProphet does not support regularization via `prior_scale`. Regularization is archieved via the `_reg` argument.\n",
    "  ```python\n",
    "  # Prophet\n",
    "  from prophet import Prophet\n",
    "  m = Prophet(seasonality_prior_scale=0.5)\n",
    "  # Wrapper\n",
    "  from neuralprophet import TorchProphet as Prophet\n",
    "  m = Prophet(seasonality_reg=0.5)\n",
    "  ```\n",
    "- **Uncertainty**  \n",
    "  In Prophet, all forecasts are configured to use uncertainty intervals automatically. In NeuralProphet, the uncertaintly intervals need to be configured by the user. TorchProphet uses the default uncertainty intervals as defined in Prophet to mirror the behviour.\n",
    "\n",
    "  However, the uncertainty interval calculation differs between Prophet and NeuralProphet. Since Prophet uses a MAP estimate for uncertainty by default [Thread](https://github.com/facebook/prophet/issues/1124), NeuralProphet relies on quantile regression. Thus, the values are not directly comparable.\n",
    "  ```python\n",
    "  # Prophet\n",
    "  from prophet import Prophet\n",
    "  m = Prophet(interval_width=0.8)\n",
    "  # Wrapper\n",
    "  from neuralprophet import TorchProphet as Prophet\n",
    "  m = Prophet(interval_width=[0.1, 0.9])\n",
    "  ```\n",
    "\n",
    "\n",
    "### Unsupported features in TorchProphet\n",
    "- **Saturating forecasts**  \n",
    "  Saturating forecasts limit the predicted value to a certain limit called capacity. In Prophet, this is archieved by passing the `growth='logistic'` argument during initialization and providing a capacity limit. This functionality is currently not supported by NeuralProphet.\n",
    "- **Conditional seasonality**  \n",
    "  Conditional seasonality allows to model certain events as seasonal effects (eg. whether it's currently NFL season). This can be archieved in Prophet by passing the argument `condition_name` to `add_seasonality(...)`. This feature is currently also not supported in NeuralProphet.\n",
    "\n",
    "### Additional features of TorchProphet\n",
    "- **Autoregression**  \n",
    "  TorchProphet allows to model autoregression of arbitrary lag lengths by building on a Neural Network implementation of the autoregression algorithm (called AR-Net). More information can be found here [Autoregression](https://neuralprophet.com/html/autoregression_yosemite_temps.html).\n",
    "- **Lagged regressors**  \n",
    "  TorchProphet does not only support \"future\" regressors like in Prophet, but also lagged regressors that are simultaneous to the time series to predict. More information can be found here [Lagged covariates](https://neuralprophet.com/html/lagged_covariates_energy_ercot.html).\n",
    "- **Global model**  \n",
    "  TorchProphet supports hierachical forecasts by training a global model on many simultaneous time series that is used to improve the performance of predicting an individual time series. More infos can be found here [Global Model](https://neuralprophet.com/html/global_modeling.html).\n",
    "- **Neural Network architecture**  \n",
    "  TorchProphet models the forecast components using a Neural Network. By default, the network has only one hidden layer. However, for more complex time series, the depth of the network can be increased to learn more complex relations.\n",
    "- **PyTorch**  \n",
    "  TorchProphet is build on Pytorch (soon PyTorch Lightning) and thus provides interfaces for developers to extend the vanilla model for specific use cases."
   ]
  },
  {
   "cell_type": "code",
   "execution_count": 4,
   "metadata": {},
   "outputs": [],
   "source": [
    "import logging\n",
    "import warnings\n",
    "import pandas as pd\n",
    "from prophet import Prophet\n",
    "from neuralprophet import NeuralProphet, set_log_level\n",
    "\n",
    "set_log_level(\"ERROR\")\n",
    "logging.getLogger('prophet').setLevel(logging.ERROR)\n",
    "warnings.filterwarnings(\"ignore\")"
   ]
  },
  {
   "cell_type": "code",
   "execution_count": 5,
   "metadata": {},
   "outputs": [],
   "source": [
    "df = pd.read_csv('https://raw.githubusercontent.com/facebook/prophet/main/examples/example_wp_log_peyton_manning.csv')"
   ]
  },
  {
   "cell_type": "markdown",
   "metadata": {},
   "source": [
    "### Trend"
   ]
  },
  {
   "cell_type": "code",
   "execution_count": null,
   "metadata": {},
   "outputs": [],
   "source": [
    "# Prophet\n",
    "p = Prophet(growth=\"linear\", n_changepoints=10, changepoint_range=0.5)\n",
    "p.fit(df)\n",
    "\n",
    "# NeuralProphet\n",
    "np = NeuralProphet(growth=\"linear\", n_changepoints=10, changepoints_range=0.5)\n",
    "np.fit(df)"
   ]
  },
  {
   "cell_type": "markdown",
   "metadata": {},
   "source": [
    "### Seasonality"
   ]
  },
  {
   "cell_type": "code",
   "execution_count": null,
   "metadata": {},
   "outputs": [],
   "source": [
    "# Prophet\n",
    "p = Prophet(weekly_seasonality=False)\n",
    "p = p.add_seasonality(name=\"monthly\", period=30.5, fourier_order=5)\n",
    "p.fit(df)\n",
    "\n",
    "# NeuralProphet\n",
    "np = NeuralProphet(weekly_seasonality=False)\n",
    "np = np.add_seasonality(name=\"monthly\", period=30.5, fourier_order=5)\n",
    "np.fit(df)"
   ]
  },
  {
   "cell_type": "markdown",
   "metadata": {},
   "source": [
    "### Country holidays"
   ]
  },
  {
   "cell_type": "code",
   "execution_count": null,
   "metadata": {},
   "outputs": [],
   "source": [
    "# Prophet\n",
    "p = Prophet()\n",
    "p.add_country_holidays(country_name='US')\n",
    "p.fit(df)\n",
    "\n",
    "# NeuralProphet\n",
    "np = NeuralProphet()\n",
    "np.add_country_holidays(country_name='US')\n",
    "np.fit(df)"
   ]
  },
  {
   "cell_type": "markdown",
   "metadata": {},
   "source": [
    "### Future regressors"
   ]
  },
  {
   "cell_type": "code",
   "execution_count": null,
   "metadata": {},
   "outputs": [],
   "source": []
  },
  {
   "cell_type": "markdown",
   "metadata": {},
   "source": [
    "### Holidays & Events"
   ]
  },
  {
   "cell_type": "markdown",
   "metadata": {},
   "source": [
    "### Regularization"
   ]
  },
  {
   "cell_type": "markdown",
   "metadata": {},
   "source": [
    "### Uncertainty"
   ]
  }
 ],
 "metadata": {
  "kernelspec": {
   "display_name": "Python 3.8.9 ('venv': venv)",
   "language": "python",
   "name": "python3"
  },
  "language_info": {
   "codemirror_mode": {
    "name": "ipython",
    "version": 3
   },
   "file_extension": ".py",
   "mimetype": "text/x-python",
   "name": "python",
   "nbconvert_exporter": "python",
   "pygments_lexer": "ipython3",
   "version": "3.8.9"
  },
  "orig_nbformat": 4,
  "vscode": {
   "interpreter": {
    "hash": "e488e6bd15b38f84fe669bfc536f96b6c5fb6be3ab1c1213873b81c0afcbd577"
   }
  }
 },
 "nbformat": 4,
 "nbformat_minor": 2
}
